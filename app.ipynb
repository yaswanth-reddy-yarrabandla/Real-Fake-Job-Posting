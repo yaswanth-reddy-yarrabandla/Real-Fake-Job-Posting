{
 "cells": [
  {
   "cell_type": "code",
   "execution_count": null,
   "id": "f4f8cfbc-c79e-435c-b09e-016b5990f1db",
   "metadata": {},
   "outputs": [],
   "source": [
    "import streamlit as st\n",
    "import joblib\n",
    "\n",
    "# Load the pretrained SVM model and TF-IDF vectorizer\n",
    "svm_model = joblib.load(\"svm_model.pkl\")  # Ensure this file exists in your directory\n",
    "tfidf_vectorizer = joblib.load(\"tfidf_vectorizer.pkl\")  # Ensure this file exists in your directory\n",
    "\n",
    "# Streamlit app title and description\n",
    "st.title(\"Fake Job Posting Detection App\")\n",
    "st.write(\"Enter a job description to classify if it's likely *fake* or *real*.\")\n",
    "\n",
    "# Input text area for job description\n",
    "input_text = st.text_area(\"Job Description:\", placeholder=\"Enter the job description here...\")\n",
    "\n",
    "# Predict button\n",
    "if st.button(\"Predict\"):\n",
    "    # Check if input text is empty\n",
    "    if not input_text.strip():\n",
    "        st.error(\"Please enter a job description to make a prediction.\")\n",
    "    else:\n",
    "        # Preprocess the input text using the loaded TF-IDF vectorizer\n",
    "        input_tfidf = tfidf_vectorizer.transform([input_text])\n",
    "\n",
    "        # Predict the probability of the input being fake\n",
    "        y_pred_proba = svm_model.predict_proba(input_tfidf)[0][1]\n",
    "\n",
    "        # Set a threshold for classification\n",
    "        threshold = 0.4  # Adjust based on your tuned model\n",
    "        y_pred = int(y_pred_proba >= threshold)\n",
    "\n",
    "        # Display prediction result\n",
    "        if y_pred == 1:\n",
    "            st.error(\"⚠️ Warning: This job posting is likely *fake*.\")\n",
    "        else:\n",
    "            st.success(\"✅ This job posting appears *real*.\")\n",
    "\n",
    "        # Show prediction probability\n",
    "        #st.write(f\"*Prediction Probability of Fake:* {y_pred_proba:.2f}\")"
   ]
  }
 ],
 "metadata": {
  "kernelspec": {
   "display_name": "Python 3 (ipykernel)",
   "language": "python",
   "name": "python3"
  },
  "language_info": {
   "codemirror_mode": {
    "name": "ipython",
    "version": 3
   },
   "file_extension": ".py",
   "mimetype": "text/x-python",
   "name": "python",
   "nbconvert_exporter": "python",
   "pygments_lexer": "ipython3",
   "version": "3.12.4"
  }
 },
 "nbformat": 4,
 "nbformat_minor": 5
}
